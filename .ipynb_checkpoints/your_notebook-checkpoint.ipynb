{
 "cells": [
  {
   "cell_type": "markdown",
   "id": "5e543b8d-7290-4893-b6a1-890bf9da4c14",
   "metadata": {},
   "source": []
  },
  {
   "cell_type": "code",
   "execution_count": null,
   "id": "9ca6e66f-5ddb-4c39-8eaf-52a4debc3752",
   "metadata": {},
   "outputs": [],
   "source": [
    "Jupyter Notebook - An open source web application to create and share documents containing live code, visualizations, and text.\n",
    "\n",
    "Colab Notebook - Jupyter notebooks hosted by Google that provide free access to GPUs and machine learning tools.\n",
    "\n",
    "GitHub - A Git repository hosting service used to store and manage code as well as track changes. Enables collaboration.\n",
    "\n",
    "Virtual Environment - An isolated Python environment that allows packages to be installed for use in a particular application rather than globally.\n",
    "\n",
    "README File - A text file that introduces and explains a project. It contains info to help others understand and contribute.\n",
    "\n",
    "Requirements File - A text file listing all the Python package dependencies needed to run an application. Allows reproducible builds.\n",
    "\n",
    "Makefile - A file containing a set of directives to automate building, testing, and managing a project.\n",
    "\n",
    "Continuous Integration - The practice of frequently merging code changes and automatically building and testing code to catch issues fast."
   ]
  }
 ],
 "metadata": {
  "kernelspec": {
   "display_name": "Python 3 (ipykernel)",
   "language": "python",
   "name": "python3"
  },
  "language_info": {
   "codemirror_mode": {
    "name": "ipython",
    "version": 3
   },
   "file_extension": ".py",
   "mimetype": "text/x-python",
   "name": "python",
   "nbconvert_exporter": "python",
   "pygments_lexer": "ipython3",
   "version": "3.12.3"
  }
 },
 "nbformat": 4,
 "nbformat_minor": 5
}
